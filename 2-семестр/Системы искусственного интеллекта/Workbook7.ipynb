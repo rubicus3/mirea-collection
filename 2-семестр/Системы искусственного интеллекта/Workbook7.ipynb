{
  "nbformat": 4,
  "nbformat_minor": 0,
  "metadata": {
    "colab": {
      "provenance": []
    },
    "kernelspec": {
      "name": "python3",
      "display_name": "Python 3"
    },
    "language_info": {
      "name": "python"
    }
  },
  "cells": [
    {
      "cell_type": "markdown",
      "source": [
        "# Задание 1"
      ],
      "metadata": {
        "id": "5Im6iXQ7HVGS"
      }
    },
    {
      "cell_type": "markdown",
      "source": [
        "\n",
        "\n",
        "```\n",
        "Реализовать классы нейросетей по аналогии с классом OurNeuralNetwork.\n",
        "Данные нейросети:\n",
        "− три входа (𝑥1, 𝑥2, 𝑥3\n",
        ");\n",
        "− три нейрона в скрытых слоях (ℎ1, ℎ2, ℎ3);\n",
        "− выход (𝑜1).\n",
        "Нейроны имеют идентичные веса и пороги:\n",
        "− 𝑤 = [0.5, 0.5, 0.5]\n",
        "− 𝑏 = 0\n",
        "Данные нейросети:\n",
        "− два входа (𝑥1, 𝑥2);\n",
        "− два нейрона в скрытых слоях (ℎ1, ℎ2);\n",
        "− два выхода (𝑜1, 𝑜2\n",
        ").\n",
        "Нейроны имеют идентичные веса и пороги:\n",
        "− 𝑤 = [1, 0];\n",
        "− 𝑏 = 1.\n",
        "```\n",
        "\n"
      ],
      "metadata": {
        "id": "emihmZn4HXgY"
      }
    },
    {
      "cell_type": "code",
      "source": [
        "import numpy as np\n",
        "\n",
        "def sigmoid(x):\n",
        "    return 1 / (1 + np.exp(-x))\n",
        "\n",
        "\n",
        "class Neuron:\n",
        "    def __init__(self, weights, bias):\n",
        "        self.weights = weights\n",
        "        self.bias = bias\n",
        "    def feedforward(self, inputs):\n",
        "        total = np.dot(self.weights, inputs) + self.bias\n",
        "        return sigmoid(total)\n",
        "\n",
        "\n",
        "class NeuralNetwork1:\n",
        "    '''\n",
        "    Данные нейросети:\n",
        "    − три входа (𝑥1, 𝑥2, 𝑥3);\n",
        "    − три нейрона в скрытых слоях (ℎ1, ℎ2, ℎ3);\n",
        "    − выход (𝑜1).\n",
        "    Нейроны имеют идентичные веса и пороги:\n",
        "    − 𝑤 = [0.5, 0.5, 0.5]\n",
        "    − 𝑏 = 0\n",
        "    '''\n",
        "    def __init__(self):\n",
        "        weights = np.array([0.5, 0.5, 0.5])\n",
        "        bias = 0\n",
        "        self.h1 = Neuron(weights, bias)\n",
        "        self.h2 = Neuron(weights, bias)\n",
        "        self.h3 = Neuron(weights, bias)\n",
        "        self.o1 = Neuron(weights, bias)\n",
        "    def feedforward(self, x):\n",
        "        out_h1 = self.h1.feedforward(x)\n",
        "        out_h2 = self.h2.feedforward(x)\n",
        "        out_h3 = self.h3.feedforward(x)\n",
        "\n",
        "        out_o1 = self.o1.feedforward(np.array([out_h1, out_h2, out_h3]))\n",
        "        return out_o1\n",
        "\n",
        "class NeuralNetwork2:\n",
        "    '''\n",
        "    Данные нейросети:\n",
        "    − два входа (𝑥1, 𝑥2);\n",
        "    − два нейрона в скрытых слоях (ℎ1, ℎ2);\n",
        "    − два выхода (𝑜1, 𝑜2).\n",
        "    Нейроны имеют идентичные веса и пороги:\n",
        "    − 𝑤 = [1, 0];\n",
        "    − 𝑏 = 1.\n",
        "    '''\n",
        "    def __init__(self):\n",
        "        weights = np.array([1, 0])\n",
        "        bias = 1\n",
        "        self.h1 = Neuron(weights, bias)\n",
        "        self.h2 = Neuron(weights, bias)\n",
        "        self.o1 = Neuron(weights, bias)\n",
        "        self.o2 = Neuron(weights, bias)\n",
        "    def feedforward(self, x):\n",
        "        out_h1 = self.h1.feedforward(x)\n",
        "        out_h2 = self.h2.feedforward(x)\n",
        "\n",
        "        out_o1 = self.o1.feedforward(np.array([out_h1, out_h2]))\n",
        "        out_o2 = self.o2.feedforward(np.array([out_h2, out_h1]))\n",
        "\n",
        "        return out_o1, out_o2\n",
        "\n",
        "network = NeuralNetwork1()\n",
        "x = np.array([2, 3, 5])\n",
        "print(network.feedforward(x))\n",
        "\n",
        "network = NeuralNetwork2()\n",
        "x = np.array([2, 5])\n",
        "print(network.feedforward(x))\n"
      ],
      "metadata": {
        "colab": {
          "base_uri": "https://localhost:8080/"
        },
        "id": "SKo0tCLzHaKG",
        "outputId": "e599011a-f6a1-45c6-ad7d-860aa26c571b"
      },
      "execution_count": null,
      "outputs": [
        {
          "output_type": "stream",
          "name": "stdout",
          "text": [
            "0.8160723773367224\n",
            "(0.8757270529783324, 0.8757270529783324)\n"
          ]
        }
      ]
    },
    {
      "cell_type": "markdown",
      "source": [
        "# Задание 2"
      ],
      "metadata": {
        "id": "dekQqNMgSaQd"
      }
    },
    {
      "cell_type": "markdown",
      "source": [
        "```\n",
        "Реализуйте классы нейронных сетей с использованием других функций\n",
        "активации.\n",
        "```\n",
        "\n"
      ],
      "metadata": {
        "id": "CwwcgfzkSeRk"
      }
    },
    {
      "cell_type": "code",
      "source": [
        "import numpy as np\n",
        "\n",
        "def sigmoid(x):\n",
        "    return 1 / (1 + np.exp(-x))\n",
        "\n",
        "def tanh(x):\n",
        "    return np.tanh(x)\n",
        "\n",
        "def ReLU(x):\n",
        "    return np.maximum(0, x)\n",
        "\n",
        "\n",
        "class Neuron:\n",
        "    def __init__(self, weights, bias, func):\n",
        "        self.weights = weights\n",
        "        self.bias = bias\n",
        "        self.func = func\n",
        "    def feedforward(self, inputs):\n",
        "        total = np.dot(self.weights, inputs) + self.bias\n",
        "        return self.func(total)\n",
        "\n",
        "\n",
        "class NeuralNetwork3:\n",
        "    '''\n",
        "    Данные нейросети:\n",
        "    − три входа (𝑥1, 𝑥2, 𝑥3);\n",
        "    − три нейрона в скрытых слоях (ℎ1, ℎ2, ℎ3);\n",
        "    − выход (𝑜1).\n",
        "    Нейроны имеют идентичные веса и пороги:\n",
        "    − 𝑤 = [0.5, 0.5, 0.5]\n",
        "    − 𝑏 = 0\n",
        "    '''\n",
        "    def __init__(self, func):\n",
        "        weights = np.array([0.5, 0.5, 0.5])\n",
        "        bias = 0\n",
        "        self.h1 = Neuron(weights, bias, func)\n",
        "        self.h2 = Neuron(weights, bias, func)\n",
        "        self.h3 = Neuron(weights, bias, func)\n",
        "\n",
        "        self.o1 = Neuron(weights, bias, func)\n",
        "    def feedforward(self, x):\n",
        "        out_h1 = self.h1.feedforward(x)\n",
        "        out_h2 = self.h2.feedforward(x)\n",
        "        out_h3 = self.h3.feedforward(x)\n",
        "\n",
        "        out_o1 = self.o1.feedforward(np.array([out_h1, out_h2, out_h3]))\n",
        "        return out_o1\n",
        "\n",
        "\n",
        "network = NeuralNetwork3(sigmoid)\n",
        "x = np.array([2, 3, 5])\n",
        "print(network.feedforward(x))\n",
        "\n",
        "network = NeuralNetwork3(tanh)\n",
        "x = np.array([2, 3, 5])\n",
        "print(network.feedforward(x))\n",
        "\n",
        "network = NeuralNetwork3(ReLU)\n",
        "x = np.array([2, 3, 5])\n",
        "print(network.feedforward(x))\n"
      ],
      "metadata": {
        "colab": {
          "base_uri": "https://localhost:8080/"
        },
        "id": "dnYC_DTDShf6",
        "outputId": "c4506936-28b6-40e6-86b4-6c3ca670f067"
      },
      "execution_count": null,
      "outputs": [
        {
          "output_type": "stream",
          "name": "stdout",
          "text": [
            "0.8160723773367224\n",
            "0.9051236395219001\n",
            "7.5\n"
          ]
        }
      ]
    },
    {
      "cell_type": "code",
      "source": [
        "\n"
      ],
      "metadata": {
        "id": "b47DrLzmSxqW"
      },
      "execution_count": null,
      "outputs": []
    },
    {
      "cell_type": "markdown",
      "source": [
        "# Задание 3"
      ],
      "metadata": {
        "id": "pzuvu9AAWysj"
      }
    },
    {
      "cell_type": "markdown",
      "source": [
        "\n",
        "\n",
        "```\n",
        "Используйте классы MLPClassified и MLPRegressor для классификации и\n",
        "регрессии произвольных данных из интернета. Проведите анализ\n",
        "атрибуты, полученных моделей.\n",
        "Для классификации можете взять набор данных Ирисов:\n",
        "https://gist.githubusercontent.com/netj/8836201/raw/6f9306ad21398ea43cba4f7d537619d0e07d5ae3/iris.csv\n",
        "а для регрессии датасет зависимости заработной платы от опыта работы:\n",
        "https://raw.githubusercontent.com/AnnaShestova/salary-years-simple-linear-regression/master/Salary_Data.csv\n",
        "```\n",
        "\n"
      ],
      "metadata": {
        "id": "3mn6kfVbW3Vb"
      }
    },
    {
      "cell_type": "code",
      "source": [
        "import pandas as pd\n",
        "import numpy as np\n",
        "import matplotlib.pyplot as plt\n",
        "from sklearn.model_selection import train_test_split\n",
        "from sklearn.neural_network import MLPClassifier\n",
        "from sklearn.metrics import confusion_matrix\n",
        "\n",
        "\n",
        "print(\"----- IRIS MLPClassifier -----\")\n",
        "\n",
        "print(\"\\n\\n-------DATASET-------\\n\\n\")\n",
        "\n",
        "rcst = 727\n",
        "\n",
        "\n",
        "url = 'https://gist.githubusercontent.com/netj/8836201/raw/6f9306ad21398ea43cba4f7d537619d0e07d5ae3/iris.csv'\n",
        "iris = pd.read_csv(url)\n",
        "\n",
        "print(\"Dataset shape: \", iris.shape)\n",
        "print(iris.describe())\n",
        "\n",
        "\n",
        "print(\"\\n\\n-------REGRESSOR-------\\n\\n\")\n",
        "\n",
        "dataset = iris.rename(columns = {'sepal.length':'x1', 'sepal.width': 'x2', 'petal.length':'x3', 'petal.width': 'x4', 'variety':'y'}, inplace = False)\n",
        "X_iris, Y_iris = dataset[['x1', 'x2', 'x3', 'x4']], dataset['y']\n",
        "X_train, X_test, Y_train, Y_test = train_test_split(X_iris, Y_iris,\n",
        "                                                    train_size=0.80, test_size=0.20,\n",
        "                                                    stratify=Y_iris, random_state=rcst)\n",
        "print(\"Train/Test Sizes :\", X_train.shape, X_test.shape, Y_train.shape, Y_test.shape)\n",
        "\n",
        "mlp_classifier = MLPClassifier(random_state=rcst)\n",
        "mlp_classifier.fit(X_train, Y_train)\n",
        "\n",
        "\n",
        "\n",
        "Y_preds = mlp_classifier.predict(X_test)\n",
        "\n",
        "print(Y_preds[:8])\n",
        "print(Y_test[:8])\n",
        "print(\"\\n\\n-------SCORE-------\\n\\n\")\n",
        "\n",
        "print('Test accuracy : %.3f'%mlp_classifier.score(X_test, Y_test))\n",
        "print('Training accuracy : %.3f'%mlp_classifier.score(X_train, Y_train))\n",
        "print(\"Loss :\", mlp_classifier.loss_)\n",
        "print(\"Number of Coefs :\", len(mlp_classifier.coefs_))\n",
        "print(\"Number of Intercepts :\", len(mlp_classifier.intercepts_))\n",
        "print(\"Number of Iterations for Which Estimator Ran :\", mlp_classifier.n_iter_)\n",
        "print(\"Name of Output Layer Activation Function :\", mlp_classifier.out_activation_)\n",
        "\n",
        "\n",
        "def plot_confusion_matrix(Y_test, Y_preds):\n",
        "    conf_mat = confusion_matrix(Y_test, Y_preds)\n",
        "    cx = conf_mat.shape[0]\n",
        "    cy = conf_mat.shape[1]\n",
        "\n",
        "    fig = plt.figure(figsize=(cx, cy))\n",
        "    plt.matshow(conf_mat, cmap=plt.cm.Blues, fignum=1)\n",
        "    plt.yticks(range(cx), range(cy))\n",
        "    plt.xticks(range(cx), range(cy))\n",
        "    plt.colorbar()\n",
        "    for i in range(cx):\n",
        "        for j in range(cy):\n",
        "            plt.text(i - 0.2, j + 0.1, str(conf_mat[j, i]), color='tab:red')\n",
        "\n",
        "plot_confusion_matrix(Y_test, Y_preds)"
      ],
      "metadata": {
        "id": "UisxnjCWW7J8",
        "colab": {
          "base_uri": "https://localhost:8080/",
          "height": 1000
        },
        "outputId": "36476308-2116-4479-d4d6-ea03ac9b4f6c"
      },
      "execution_count": 31,
      "outputs": [
        {
          "output_type": "stream",
          "name": "stdout",
          "text": [
            "----- IRIS MLPClassifier -----\n",
            "\n",
            "\n",
            "-------DATASET-------\n",
            "\n",
            "\n",
            "Dataset shape:  (150, 5)\n",
            "       sepal.length  sepal.width  petal.length  petal.width\n",
            "count    150.000000   150.000000    150.000000   150.000000\n",
            "mean       5.843333     3.057333      3.758000     1.199333\n",
            "std        0.828066     0.435866      1.765298     0.762238\n",
            "min        4.300000     2.000000      1.000000     0.100000\n",
            "25%        5.100000     2.800000      1.600000     0.300000\n",
            "50%        5.800000     3.000000      4.350000     1.300000\n",
            "75%        6.400000     3.300000      5.100000     1.800000\n",
            "max        7.900000     4.400000      6.900000     2.500000\n",
            "\n",
            "\n",
            "-------REGRESSOR-------\n",
            "\n",
            "\n",
            "Train/Test Sizes : (120, 4) (30, 4) (120,) (30,)\n"
          ]
        },
        {
          "output_type": "stream",
          "name": "stderr",
          "text": [
            "/usr/local/lib/python3.10/dist-packages/sklearn/neural_network/_multilayer_perceptron.py:686: ConvergenceWarning: Stochastic Optimizer: Maximum iterations (200) reached and the optimization hasn't converged yet.\n",
            "  warnings.warn(\n"
          ]
        },
        {
          "output_type": "stream",
          "name": "stdout",
          "text": [
            "['Versicolor' 'Virginica' 'Setosa' 'Versicolor' 'Setosa' 'Virginica'\n",
            " 'Versicolor' 'Setosa']\n",
            "69     Versicolor\n",
            "121     Virginica\n",
            "4          Setosa\n",
            "51     Versicolor\n",
            "38         Setosa\n",
            "147     Virginica\n",
            "90     Versicolor\n",
            "15         Setosa\n",
            "Name: y, dtype: object\n",
            "\n",
            "\n",
            "-------SCORE-------\n",
            "\n",
            "\n",
            "Test accuracy : 1.000\n",
            "Training accuracy : 0.975\n",
            "Loss : 0.2643881292684216\n",
            "Number of Coefs : 2\n",
            "Number of Intercepts : 2\n",
            "Number of Iterations for Which Estimator Ran : 200\n",
            "Name of Output Layer Activation Function : softmax\n"
          ]
        },
        {
          "output_type": "display_data",
          "data": {
            "text/plain": [
              "<Figure size 300x300 with 2 Axes>"
            ],
            "image/png": "[encoded data removed]"
          },
          "metadata": {}
        }
      ]
    },
    {
      "cell_type": "code",
      "source": [
        "import pandas as pd\n",
        "import numpy as np\n",
        "import matplotlib.pyplot as plt\n",
        "from sklearn.model_selection import train_test_split\n",
        "from sklearn.neural_network import MLPRegressor\n",
        "from sklearn.preprocessing import MinMaxScaler\n",
        "\n",
        "\n",
        "print(\"----- SALARY MLPRegressor -----\")\n",
        "print(\"\\n\\n-------DATASET-------\\n\\n\")\n",
        "\n",
        "rcst = 727\n",
        "\n",
        "url = 'https://raw.githubusercontent.com/AnnaShestova/salary-years-simple-linear-regression/master/Salary_Data.csv'\n",
        "exp = pd.read_csv(url)\n",
        "\n",
        "print(\"Dataset shape: \", exp.describe())\n",
        "\n",
        "print(exp.head(5))\n",
        "\n",
        "print(\"\\n\\n-------REGRESSOR-------\\n\\n\")\n",
        "\n",
        "# Нормализуем зарплату\n",
        "exp[['Salary']] = MinMaxScaler().fit_transform(exp[['Salary']])\n",
        "\n",
        "\n",
        "Y_exp = exp['Salary']\n",
        "X_exp = exp[['YearsExperience']]\n",
        "X_train, X_test, Y_train, Y_test = train_test_split(X_exp, Y_exp, train_size=0.80, test_size=0.20, random_state=rcst)\n",
        "\n",
        "\n",
        "print(\"Train/Test Sizes :\", X_train.shape, X_test.shape, Y_train.shape, Y_test.shape)\n",
        "\n",
        "mlp_regressor = MLPRegressor(random_state=rcst)\n",
        "mlp_regressor.fit(X_train, Y_train)\n",
        "\n",
        "\n",
        "Y_preds = mlp_regressor.predict(X_test)\n",
        "\n",
        "print(Y_preds[:10])\n",
        "print(Y_test[:10])\n",
        "\n",
        "print(\"\\n\\n-------SCORE-------\\n\\n\")\n",
        "print(\"Test R^2 Score : %.3f\"%mlp_regressor.score(X_test, Y_test))\n",
        "print(\"Training R^2 Score : %.3f\"%mlp_regressor.score(X_train, Y_train))\n",
        "print(\"Loss :\", mlp_regressor.loss_)\n",
        "print(\"Number of Coefs :\", len(mlp_regressor.coefs_))\n",
        "[weights.shape for weights in mlp_regressor.coefs_]\n",
        "\n",
        "print(\"Number of Iterations for Which Estimator Ran :\", mlp_regressor.n_iter_)\n",
        "print(\"Name of Output Layer Activation Function :\", mlp_regressor.out_activation_)\n"
      ],
      "metadata": {
        "colab": {
          "base_uri": "https://localhost:8080/"
        },
        "id": "rtClXXxdNbHt",
        "outputId": "b27f18a2-77d4-4d25-a695-bf36dc4436e5"
      },
      "execution_count": 38,
      "outputs": [
        {
          "output_type": "stream",
          "name": "stdout",
          "text": [
            "----- SALARY MLPRegressor -----\n",
            "\n",
            "\n",
            "-------DATASET-------\n",
            "\n",
            "\n",
            "Dataset shape:         YearsExperience         Salary\n",
            "count        30.000000      30.000000\n",
            "mean          5.313333   76003.000000\n",
            "std           2.837888   27414.429785\n",
            "min           1.100000   37731.000000\n",
            "25%           3.200000   56720.750000\n",
            "50%           4.700000   65237.000000\n",
            "75%           7.700000  100544.750000\n",
            "max          10.500000  122391.000000\n",
            "   YearsExperience   Salary\n",
            "0              1.1  39343.0\n",
            "1              1.3  46205.0\n",
            "2              1.5  37731.0\n",
            "3              2.0  43525.0\n",
            "4              2.2  39891.0\n",
            "\n",
            "\n",
            "-------REGRESSOR-------\n",
            "\n",
            "\n",
            "Train/Test Sizes : (24, 1) (6, 1) (24,) (6,)\n",
            "[0.91152769 0.20762325 0.23170015 0.77810079 0.50828333 0.70185685]\n",
            "23    0.898665\n",
            "1     0.100094\n",
            "2     0.000000\n",
            "20    0.637928\n",
            "11    0.213359\n",
            "19    0.663938\n",
            "Name: Salary, dtype: float64\n",
            "\n",
            "\n",
            "-------SCORE-------\n",
            "\n",
            "\n",
            "Test R^2 Score : 0.736\n",
            "Training R^2 Score : 0.606\n",
            "Loss : 0.01937189695967807\n",
            "Number of Coefs : 2\n",
            "Number of Iterations for Which Estimator Ran : 49\n",
            "Name of Output Layer Activation Function : identity\n"
          ]
        }
      ]
    }
  ]
}