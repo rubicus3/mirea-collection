{
  "nbformat": 4,
  "nbformat_minor": 0,
  "metadata": {
    "colab": {
      "provenance": [],
      "toc_visible": true
    },
    "kernelspec": {
      "name": "python3",
      "display_name": "Python 3"
    },
    "language_info": {
      "name": "python"
    }
  },
  "cells": [
    {
      "cell_type": "markdown",
      "source": [
        "\n",
        "# Задание 1"
      ],
      "metadata": {
        "id": "nN2l_XAOSXip"
      }
    },
    {
      "cell_type": "markdown",
      "source": [
        "\n",
        "\n",
        "```\n",
        "Создайте класс по работе с тригонометрическими функциями. В классе\n",
        "должны быть реализованы функции вычисления:\n",
        "− косинуса;\n",
        "− синуса;\n",
        "− тангенса;\n",
        "− арксинуса;\n",
        "− арккосинуса;\n",
        "− арктангенса;\n",
        "− перевода из градусов в радианы.\n",
        "```\n",
        "\n"
      ],
      "metadata": {
        "id": "uz0Qx5d8SbMM"
      }
    },
    {
      "cell_type": "code",
      "source": [
        "import numpy\n",
        "\n",
        "class Trigonometry:\n",
        "    def cos(rad):\n",
        "        return numpy.cos(rad)\n",
        "    def sin(rad):\n",
        "        return numpy.sin(rad)\n",
        "    def tan(rad):\n",
        "        return numpy.tan(rad)\n",
        "    def arccos(num):\n",
        "        return numpy.arccos(num)\n",
        "    def arcsin(num):\n",
        "        return numpy.arcsin(num)\n",
        "    def arctan(num):\n",
        "        return numpy.arctan(num)\n",
        "    def deg2rad(angle):\n",
        "        return numpy.deg2rad(angle)\n",
        "\n",
        "funcs = {\n",
        "    \"cos\": Trigonometry.cos,\n",
        "    \"sin\": Trigonometry.sin,\n",
        "    \"tan\": Trigonometry.tan,\n",
        "    \"arccos\": Trigonometry.arccos,\n",
        "    \"arcsin\": Trigonometry.arcsin,\n",
        "    \"arctan\": Trigonometry.arctan,\n",
        "    \"deg2rad\": Trigonometry.deg2rad,\n",
        "}\n",
        "\n",
        "\n",
        "print(\"Доступные функции: cos, sin, tan, arccos, arcsin, arctan, deg2rad\")\n",
        "f = input(\"Введите функцию: \")\n",
        "n = 0\n",
        "if f in ['cos', 'sin', 'tan']:\n",
        "    n = float(input(\"Введите угол в радианах: \"))\n",
        "elif f in ['arccos', 'arcsin', 'arctan']:\n",
        "    n = float(input(\"Введите значение: \"))\n",
        "elif f == 'deg2rad':\n",
        "    n = float(input(\"Введите угол: \"))\n",
        "else:\n",
        "    print(\"Неизвестная команда\")\n",
        "\n",
        "print(funcs[f](n))\n",
        "\n"
      ],
      "metadata": {
        "colab": {
          "base_uri": "https://localhost:8080/"
        },
        "id": "isS4j9J-Sayl",
        "outputId": "a553f06d-a81f-4106-f624-622072c80a41"
      },
      "execution_count": null,
      "outputs": [
        {
          "output_type": "stream",
          "name": "stdout",
          "text": [
            "Доступные функции: cos, sin, tan, arccos, arcsin, arctan, deg2rad\n",
            "Введите функцию: cos\n",
            "Введите угол в радианах: 3.14\n",
            "-0.9999987317275395\n"
          ]
        }
      ]
    },
    {
      "cell_type": "markdown",
      "source": [
        "# Задание 2"
      ],
      "metadata": {
        "id": "yhBpAbT7U4wC"
      }
    },
    {
      "cell_type": "markdown",
      "source": [
        "\n",
        "\n",
        "```\n",
        "Представьте дерево показанное на рисунке с использованием списка из\n",
        "списков. Выведите на печать корень дерева, а также его левое и правое\n",
        "поддеревья.\n",
        "```\n",
        "\n"
      ],
      "metadata": {
        "id": "4uTPYN37U6-g"
      }
    },
    {
      "cell_type": "code",
      "source": [
        "a = [[['d'], ['e']], ['f']]\n",
        "print(a)\n",
        "print(a[0])\n",
        "print(a[1])"
      ],
      "metadata": {
        "colab": {
          "base_uri": "https://localhost:8080/"
        },
        "id": "Zw5ExodaU6rQ",
        "outputId": "7be5f6f7-25b7-4ca4-adde-5e7a460f7a42"
      },
      "execution_count": null,
      "outputs": [
        {
          "output_type": "stream",
          "name": "stdout",
          "text": [
            "[[['d'], ['e']], ['f']]\n",
            "[['d'], ['e']]\n",
            "['f']\n"
          ]
        }
      ]
    },
    {
      "cell_type": "markdown",
      "source": [
        "# Задание 3"
      ],
      "metadata": {
        "id": "Bl7ZYnzgXmiJ"
      }
    },
    {
      "cell_type": "markdown",
      "source": [
        "\n",
        "\n",
        "```\n",
        "Дан класс, описывающий бинарное дерево.\n",
        "```\n",
        "\n"
      ],
      "metadata": {
        "id": "WXz7JK30Xr0q"
      }
    },
    {
      "cell_type": "code",
      "source": [
        "class Node:\n",
        "    def __init__(self, data):\n",
        "        self.left = None\n",
        "        self.right = None\n",
        "        self.data = data\n",
        "\n",
        "    def add(self, node):\n",
        "        if self.left and node.data < self.data:\n",
        "            self.left.add(node)\n",
        "        elif self.right and node.data >= self.data:\n",
        "            self.right.add(node)\n",
        "        elif node.data < self.data:\n",
        "            self.left = node\n",
        "        else:\n",
        "            self.right = node\n",
        "\n",
        "    def cout(self, ind):\n",
        "        print(\" \" * ind, self.data)\n",
        "        if(self.left):\n",
        "            self.left.cout(ind + 1)\n",
        "        if(self.right):\n",
        "            self.right.cout(ind + 1)\n",
        "\n",
        "\n",
        "\n",
        "class Tree:\n",
        "    def __init__(self, data):\n",
        "        self.head = Node(data)\n",
        "\n",
        "    def cout(self):\n",
        "        self.head.cout(0)\n",
        "\n",
        "    def add(self, node):\n",
        "        self.head.add(node)\n",
        "\n",
        "\n",
        "tree = Tree(5)\n",
        "tree.add(Node(4))\n",
        "tree.add(Node(5))\n",
        "tree.add(Node(3))\n",
        "tree.add(Node(7))\n",
        "tree.add(Node(6))\n",
        "tree.add(Node(6))\n",
        "tree.add(Node(7))\n",
        "tree.add(Node(9))\n",
        "tree.add(Node(8))\n",
        "tree.add(Node(9))\n",
        "tree.add(Node(15))\n",
        "tree.add(Node(14))\n",
        "tree.add(Node(14))\n",
        "tree.add(Node(15))\n",
        "tree.add(Node(17))\n",
        "tree.add(Node(3))\n",
        "tree.add(Node(2))\n",
        "tree.add(Node(1))\n",
        "tree.add(Node(7))\n",
        "tree.add(Node(7))\n",
        "tree.add(Node(8))\n",
        "tree.add(Node(6))\n",
        "\n",
        "\n",
        "tree.cout()\n",
        "\n"
      ],
      "metadata": {
        "colab": {
          "base_uri": "https://localhost:8080/"
        },
        "id": "gJvEkL5gXs1g",
        "outputId": "8651f8b0-5684-489e-8b6f-b75443c35349"
      },
      "execution_count": null,
      "outputs": [
        {
          "output_type": "stream",
          "name": "stdout",
          "text": [
            " 5\n",
            "  4\n",
            "   3\n",
            "    2\n",
            "     1\n",
            "    3\n",
            "  5\n",
            "   7\n",
            "    6\n",
            "     6\n",
            "      6\n",
            "    7\n",
            "     9\n",
            "      8\n",
            "       7\n",
            "        7\n",
            "       8\n",
            "      9\n",
            "       15\n",
            "        14\n",
            "         14\n",
            "        15\n",
            "         17\n"
          ]
        }
      ]
    },
    {
      "cell_type": "markdown",
      "source": [
        "# Задание 4"
      ],
      "metadata": {
        "id": "qfHqvBbYeP9v"
      }
    },
    {
      "cell_type": "markdown",
      "source": [
        "\n",
        "\n",
        "```\n",
        "Постройте классификатор на основе дерева принятия решений\n",
        "следующего датасета:\n",
        "```\n",
        "\n"
      ],
      "metadata": {
        "id": "tJ-qTlHKeS76"
      }
    },
    {
      "cell_type": "code",
      "source": [
        "import numpy as np\n",
        "from sklearn.tree import DecisionTreeClassifier\n",
        "from sklearn.metrics import classification_report, confusion_matrix\n",
        "from sklearn import tree\n",
        "\n",
        "X = np.array([[-1, -1], [-2, -1], [-3, -2], [1, 1], [2, 1], [3, 2]])\n",
        "target = [0, 0, 0, 1, 1, 1]\n",
        "\n",
        "X.shape\n",
        "\n",
        "classifier = DecisionTreeClassifier()\n",
        "classifier.fit(X, target)\n",
        "\n",
        "tree.plot_tree(classifier)\n",
        "y_pred = classifier.predict(X)\n",
        "\n",
        "print(confusion_matrix(y_pred,target))\n",
        "print(classification_report(y_pred,target))"
      ],
      "metadata": {
        "colab": {
          "base_uri": "https://localhost:8080/",
          "height": 608
        },
        "id": "ZESBHxwieUyo",
        "outputId": "1b0500f2-389f-43f9-87d3-ffe8a1e7d937"
      },
      "execution_count": null,
      "outputs": [
        {
          "output_type": "stream",
          "name": "stdout",
          "text": [
            "[[3 0]\n",
            " [0 3]]\n",
            "              precision    recall  f1-score   support\n",
            "\n",
            "           0       1.00      1.00      1.00         3\n",
            "           1       1.00      1.00      1.00         3\n",
            "\n",
            "    accuracy                           1.00         6\n",
            "   macro avg       1.00      1.00      1.00         6\n",
            "weighted avg       1.00      1.00      1.00         6\n",
            "\n"
          ]
        },
        {
          "output_type": "display_data",
          "data": {
            "text/plain": [
              "<Figure size 640x480 with 1 Axes>"
            ],
            "image/png": "[encoded data removed]"
          },
          "metadata": {}
        }
      ]
    },
    {
      "cell_type": "markdown",
      "source": [
        "# Задание 5"
      ],
      "metadata": {
        "id": "fK1tCAcXhLmT"
      }
    },
    {
      "cell_type": "markdown",
      "source": [
        "\n",
        "\n",
        "```\n",
        "Задание. Постройте модель регрессии для данных из предыдущей рабочей\n",
        "тетради.Для примера можно взять потребления газа (в миллионах\n",
        "галлонов) в 48 штатах США или набор данных о качестве красного вина:\n",
        "https://raw.githubusercontent.com/likarajo/petrol_consumption/master/data/pet\n",
        "rol_consumption.csv\n",
        "https://raw.githubusercontent.com/aniruddhachoudhury/Red-WineQuality/master/winequality-red.csv\n",
        "Постройте прогноз. Оцените точность модели\n",
        "```\n",
        "\n"
      ],
      "metadata": {
        "id": "B_IuvG1DhNzm"
      }
    },
    {
      "cell_type": "code",
      "source": [
        "import pandas as pd\n",
        "import numpy as np\n",
        "import matplotlib.pyplot as plt\n",
        "from sklearn.model_selection import train_test_split\n",
        "from sklearn.linear_model import LinearRegression\n",
        "\n",
        "from sklearn.tree import DecisionTreeClassifier\n",
        "from sklearn.metrics import classification_report, confusion_matrix, mean_squared_error, mean_absolute_error\n",
        "from sklearn import tree\n",
        "\n",
        "url = 'https://raw.githubusercontent.com/aniruddhachoudhury/Red-Wine-Quality/master/winequality-red.csv'\n",
        "df2 = pd.read_csv(url)\n",
        "\n",
        "df2 = df2.rename(columns = {'fixed acidity':'x1', 'volatile acidity': 'x2', 'citric acid':'x3', 'quality':'y'}, inplace = False)\n",
        "\n",
        "frames = [df2]\n",
        "dataset = pd.concat([df2], axis = 1, join = \"inner\")\n",
        "dataset.head()\n",
        "\n",
        "print(dataset.shape)\n",
        "print(dataset.describe())\n",
        "\n",
        "X = dataset[['x1','x2','x3']]\n",
        "y = dataset['y']\n",
        "X_train, X_test, y_train, y_test = train_test_split(X,y,test_size = 0.2, random_state = 0)\n",
        "\n",
        "regressor = DecisionTreeClassifier()\n",
        "regressor.fit(X_train, y_train)\n",
        "\n",
        "tree.plot_tree(regressor)\n",
        "\n",
        "y_pred = regressor.predict(X_test)\n",
        "\n",
        "display(y_pred)\n",
        "\n",
        "df = pd.DataFrame({'Actual': y_test, 'Predicted': y_pred})\n",
        "display(df)\n",
        "\n",
        "print('Mean Squared Error: ', mean_squared_error(y_test, y_pred))\n",
        "print('Mean Absolute Error: ', mean_absolute_error(y_test, y_pred))"
      ],
      "metadata": {
        "colab": {
          "base_uri": "https://localhost:8080/",
          "height": 1000
        },
        "id": "dUhRg-i1hTjG",
        "outputId": "ec529d72-9ac8-4d7b-9ef7-340cd00c2d43"
      },
      "execution_count": null,
      "outputs": [
        {
          "output_type": "stream",
          "name": "stdout",
          "text": [
            "(1599, 12)\n",
            "                x1           x2           x3  residual sugar    chlorides  \\\n",
            "count  1599.000000  1599.000000  1599.000000     1599.000000  1599.000000   \n",
            "mean      8.319637     0.527821     0.270976        2.538806     0.087467   \n",
            "std       1.741096     0.179060     0.194801        1.409928     0.047065   \n",
            "min       4.600000     0.120000     0.000000        0.900000     0.012000   \n",
            "25%       7.100000     0.390000     0.090000        1.900000     0.070000   \n",
            "50%       7.900000     0.520000     0.260000        2.200000     0.079000   \n",
            "75%       9.200000     0.640000     0.420000        2.600000     0.090000   \n",
            "max      15.900000     1.580000     1.000000       15.500000     0.611000   \n",
            "\n",
            "       free sulfur dioxide  total sulfur dioxide      density           pH  \\\n",
            "count          1599.000000           1599.000000  1599.000000  1599.000000   \n",
            "mean             15.874922             46.467792     0.996747     3.311113   \n",
            "std              10.460157             32.895324     0.001887     0.154386   \n",
            "min               1.000000              6.000000     0.990070     2.740000   \n",
            "25%               7.000000             22.000000     0.995600     3.210000   \n",
            "50%              14.000000             38.000000     0.996750     3.310000   \n",
            "75%              21.000000             62.000000     0.997835     3.400000   \n",
            "max              72.000000            289.000000     1.003690     4.010000   \n",
            "\n",
            "         sulphates      alcohol            y  \n",
            "count  1599.000000  1599.000000  1599.000000  \n",
            "mean      0.658149    10.422983     5.636023  \n",
            "std       0.169507     1.065668     0.807569  \n",
            "min       0.330000     8.400000     3.000000  \n",
            "25%       0.550000     9.500000     5.000000  \n",
            "50%       0.620000    10.200000     6.000000  \n",
            "75%       0.730000    11.100000     6.000000  \n",
            "max       2.000000    14.900000     8.000000  \n"
          ]
        },
        {
          "output_type": "display_data",
          "data": {
            "text/plain": [
              "array([5, 6, 7, 6, 5, 6, 5, 6, 5, 5, 5, 5, 6, 5, 7, 6, 7, 5, 5, 5, 5, 5,\n",
              "       6, 5, 5, 5, 6, 6, 7, 7, 6, 6, 5, 5, 7, 7, 5, 6, 5, 6, 6, 5, 8, 7,\n",
              "       5, 6, 5, 6, 6, 7, 6, 5, 6, 6, 7, 5, 5, 5, 7, 6, 5, 5, 6, 6, 5, 6,\n",
              "       5, 5, 5, 6, 6, 7, 5, 6, 4, 5, 5, 5, 5, 5, 6, 6, 6, 5, 6, 6, 5, 5,\n",
              "       5, 5, 6, 6, 6, 5, 7, 6, 5, 5, 5, 7, 7, 6, 7, 5, 6, 6, 6, 7, 7, 5,\n",
              "       6, 6, 7, 5, 5, 6, 5, 5, 6, 6, 6, 6, 7, 5, 5, 7, 5, 7, 5, 7, 4, 5,\n",
              "       6, 7, 6, 6, 6, 4, 6, 5, 6, 5, 5, 6, 5, 6, 7, 6, 5, 5, 5, 5, 7, 5,\n",
              "       6, 5, 5, 4, 5, 7, 6, 5, 6, 7, 5, 4, 6, 7, 6, 6, 5, 5, 6, 6, 5, 5,\n",
              "       6, 5, 5, 5, 7, 6, 6, 7, 6, 6, 5, 7, 5, 5, 6, 5, 5, 6, 5, 5, 5, 6,\n",
              "       5, 5, 5, 6, 6, 6, 6, 5, 5, 7, 6, 6, 5, 5, 6, 7, 6, 6, 7, 6, 6, 6,\n",
              "       5, 7, 5, 5, 7, 7, 5, 6, 5, 5, 5, 6, 5, 5, 7, 6, 5, 5, 7, 6, 5, 5,\n",
              "       6, 5, 5, 5, 5, 5, 5, 6, 5, 5, 5, 5, 5, 5, 5, 5, 6, 7, 5, 6, 5, 6,\n",
              "       5, 5, 5, 5, 5, 6, 6, 6, 5, 7, 6, 5, 7, 6, 6, 5, 5, 5, 6, 5, 6, 6,\n",
              "       5, 5, 6, 6, 5, 6, 6, 6, 4, 6, 6, 7, 6, 5, 6, 5, 6, 6, 6, 4, 5, 6,\n",
              "       7, 5, 5, 6, 5, 5, 5, 6, 5, 7, 6, 7])"
            ]
          },
          "metadata": {}
        },
        {
          "output_type": "display_data",
          "data": {
            "text/plain": [
              "      Actual  Predicted\n",
              "1109       6          5\n",
              "1032       5          6\n",
              "1002       7          7\n",
              "487        6          6\n",
              "979        5          5\n",
              "...      ...        ...\n",
              "794        6          6\n",
              "813        4          5\n",
              "1322       5          7\n",
              "704        4          6\n",
              "1023       6          7\n",
              "\n",
              "[320 rows x 2 columns]"
            ],
            "text/html": [
              "\n",
              "  <div id=\"df-f4e4cb08-b657-46e1-80aa-a7098028edf2\" class=\"colab-df-container\">\n",
              "    <div>\n",
              "<style scoped>\n",
              "    .dataframe tbody tr th:only-of-type {\n",
              "        vertical-align: middle;\n",
              "    }\n",
              "\n",
              "    .dataframe tbody tr th {\n",
              "        vertical-align: top;\n",
              "    }\n",
              "\n",
              "    .dataframe thead th {\n",
              "        text-align: right;\n",
              "    }\n",
              "</style>\n",
              "<table border=\"1\" class=\"dataframe\">\n",
              "  <thead>\n",
              "    <tr style=\"text-align: right;\">\n",
              "      <th></th>\n",
              "      <th>Actual</th>\n",
              "      <th>Predicted</th>\n",
              "    </tr>\n",
              "  </thead>\n",
              "  <tbody>\n",
              "    <tr>\n",
              "      <th>1109</th>\n",
              "      <td>6</td>\n",
              "      <td>5</td>\n",
              "    </tr>\n",
              "    <tr>\n",
              "      <th>1032</th>\n",
              "      <td>5</td>\n",
              "      <td>6</td>\n",
              "    </tr>\n",
              "    <tr>\n",
              "      <th>1002</th>\n",
              "      <td>7</td>\n",
              "      <td>7</td>\n",
              "    </tr>\n",
              "    <tr>\n",
              "      <th>487</th>\n",
              "      <td>6</td>\n",
              "      <td>6</td>\n",
              "    </tr>\n",
              "    <tr>\n",
              "      <th>979</th>\n",
              "      <td>5</td>\n",
              "      <td>5</td>\n",
              "    </tr>\n",
              "    <tr>\n",
              "      <th>...</th>\n",
              "      <td>...</td>\n",
              "      <td>...</td>\n",
              "    </tr>\n",
              "    <tr>\n",
              "      <th>794</th>\n",
              "      <td>6</td>\n",
              "      <td>6</td>\n",
              "    </tr>\n",
              "    <tr>\n",
              "      <th>813</th>\n",
              "      <td>4</td>\n",
              "      <td>5</td>\n",
              "    </tr>\n",
              "    <tr>\n",
              "      <th>1322</th>\n",
              "      <td>5</td>\n",
              "      <td>7</td>\n",
              "    </tr>\n",
              "    <tr>\n",
              "      <th>704</th>\n",
              "      <td>4</td>\n",
              "      <td>6</td>\n",
              "    </tr>\n",
              "    <tr>\n",
              "      <th>1023</th>\n",
              "      <td>6</td>\n",
              "      <td>7</td>\n",
              "    </tr>\n",
              "  </tbody>\n",
              "</table>\n",
              "<p>320 rows × 2 columns</p>\n",
              "</div>\n",
              "    <div class=\"colab-df-buttons\">\n",
              "\n",
              "  <div class=\"colab-df-container\">\n",
              "    <button class=\"colab-df-convert\" onclick=\"convertToInteractive('df-f4e4cb08-b657-46e1-80aa-a7098028edf2')\"\n",
              "            title=\"Convert this dataframe to an interactive table.\"\n",
              "            style=\"display:none;\">\n",
              "\n",
              "  <svg xmlns=\"http://www.w3.org/2000/svg\" height=\"24px\" viewBox=\"0 -960 960 960\">\n",
              "    <path d=\"M120-120v-720h720v720H120Zm60-500h600v-160H180v160Zm220 220h160v-160H400v160Zm0 220h160v-160H400v160ZM180-400h160v-160H180v160Zm440 0h160v-160H620v160ZM180-180h160v-160H180v160Zm440 0h160v-160H620v160Z\"/>\n",
              "  </svg>\n",
              "    </button>\n",
              "\n",
              "  <style>\n",
              "    .colab-df-container {\n",
              "      display:flex;\n",
              "      gap: 12px;\n",
              "    }\n",
              "\n",
              "    .colab-df-convert {\n",
              "      background-color: #E8F0FE;\n",
              "      border: none;\n",
              "      border-radius: 50%;\n",
              "      cursor: pointer;\n",
              "      display: none;\n",
              "      fill: #1967D2;\n",
              "      height: 32px;\n",
              "      padding: 0 0 0 0;\n",
              "      width: 32px;\n",
              "    }\n",
              "\n",
              "    .colab-df-convert:hover {\n",
              "      background-color: #E2EBFA;\n",
              "      box-shadow: 0px 1px 2px rgba(60, 64, 67, 0.3), 0px 1px 3px 1px rgba(60, 64, 67, 0.15);\n",
              "      fill: #174EA6;\n",
              "    }\n",
              "\n",
              "    .colab-df-buttons div {\n",
              "      margin-bottom: 4px;\n",
              "    }\n",
              "\n",
              "    [theme=dark] .colab-df-convert {\n",
              "      background-color: #3B4455;\n",
              "      fill: #D2E3FC;\n",
              "    }\n",
              "\n",
              "    [theme=dark] .colab-df-convert:hover {\n",
              "      background-color: #434B5C;\n",
              "      box-shadow: 0px 1px 3px 1px rgba(0, 0, 0, 0.15);\n",
              "      filter: drop-shadow(0px 1px 2px rgba(0, 0, 0, 0.3));\n",
              "      fill: #FFFFFF;\n",
              "    }\n",
              "  </style>\n",
              "\n",
              "    <script>\n",
              "      const buttonEl =\n",
              "        document.querySelector('#df-f4e4cb08-b657-46e1-80aa-a7098028edf2 button.colab-df-convert');\n",
              "      buttonEl.style.display =\n",
              "        google.colab.kernel.accessAllowed ? 'block' : 'none';\n",
              "\n",
              "      async function convertToInteractive(key) {\n",
              "        const element = document.querySelector('#df-f4e4cb08-b657-46e1-80aa-a7098028edf2');\n",
              "        const dataTable =\n",
              "          await google.colab.kernel.invokeFunction('convertToInteractive',\n",
              "                                                    [key], {});\n",
              "        if (!dataTable) return;\n",
              "\n",
              "        const docLinkHtml = 'Like what you see? Visit the ' +\n",
              "          '<a target=\"_blank\" href=https://colab.research.google.com/notebooks/data_table.ipynb>data table notebook</a>'\n",
              "          + ' to learn more about interactive tables.';\n",
              "        element.innerHTML = '';\n",
              "        dataTable['output_type'] = 'display_data';\n",
              "        await google.colab.output.renderOutput(dataTable, element);\n",
              "        const docLink = document.createElement('div');\n",
              "        docLink.innerHTML = docLinkHtml;\n",
              "        element.appendChild(docLink);\n",
              "      }\n",
              "    </script>\n",
              "  </div>\n",
              "\n",
              "\n",
              "<div id=\"df-27dac134-7e8b-434a-b9f5-c60dfc960c8c\">\n",
              "  <button class=\"colab-df-quickchart\" onclick=\"quickchart('df-27dac134-7e8b-434a-b9f5-c60dfc960c8c')\"\n",
              "            title=\"Suggest charts\"\n",
              "            style=\"display:none;\">\n",
              "\n",
              "<svg xmlns=\"http://www.w3.org/2000/svg\" height=\"24px\"viewBox=\"0 0 24 24\"\n",
              "     width=\"24px\">\n",
              "    <g>\n",
              "        <path d=\"M19 3H5c-1.1 0-2 .9-2 2v14c0 1.1.9 2 2 2h14c1.1 0 2-.9 2-2V5c0-1.1-.9-2-2-2zM9 17H7v-7h2v7zm4 0h-2V7h2v10zm4 0h-2v-4h2v4z\"/>\n",
              "    </g>\n",
              "</svg>\n",
              "  </button>\n",
              "\n",
              "<style>\n",
              "  .colab-df-quickchart {\n",
              "      --bg-color: #E8F0FE;\n",
              "      --fill-color: #1967D2;\n",
              "      --hover-bg-color: #E2EBFA;\n",
              "      --hover-fill-color: #174EA6;\n",
              "      --disabled-fill-color: #AAA;\n",
              "      --disabled-bg-color: #DDD;\n",
              "  }\n",
              "\n",
              "  [theme=dark] .colab-df-quickchart {\n",
              "      --bg-color: #3B4455;\n",
              "      --fill-color: #D2E3FC;\n",
              "      --hover-bg-color: #434B5C;\n",
              "      --hover-fill-color: #FFFFFF;\n",
              "      --disabled-bg-color: #3B4455;\n",
              "      --disabled-fill-color: #666;\n",
              "  }\n",
              "\n",
              "  .colab-df-quickchart {\n",
              "    background-color: var(--bg-color);\n",
              "    border: none;\n",
              "    border-radius: 50%;\n",
              "    cursor: pointer;\n",
              "    display: none;\n",
              "    fill: var(--fill-color);\n",
              "    height: 32px;\n",
              "    padding: 0;\n",
              "    width: 32px;\n",
              "  }\n",
              "\n",
              "  .colab-df-quickchart:hover {\n",
              "    background-color: var(--hover-bg-color);\n",
              "    box-shadow: 0 1px 2px rgba(60, 64, 67, 0.3), 0 1px 3px 1px rgba(60, 64, 67, 0.15);\n",
              "    fill: var(--button-hover-fill-color);\n",
              "  }\n",
              "\n",
              "  .colab-df-quickchart-complete:disabled,\n",
              "  .colab-df-quickchart-complete:disabled:hover {\n",
              "    background-color: var(--disabled-bg-color);\n",
              "    fill: var(--disabled-fill-color);\n",
              "    box-shadow: none;\n",
              "  }\n",
              "\n",
              "  .colab-df-spinner {\n",
              "    border: 2px solid var(--fill-color);\n",
              "    border-color: transparent;\n",
              "    border-bottom-color: var(--fill-color);\n",
              "    animation:\n",
              "      spin 1s steps(1) infinite;\n",
              "  }\n",
              "\n",
              "  @keyframes spin {\n",
              "    0% {\n",
              "      border-color: transparent;\n",
              "      border-bottom-color: var(--fill-color);\n",
              "      border-left-color: var(--fill-color);\n",
              "    }\n",
              "    20% {\n",
              "      border-color: transparent;\n",
              "      border-left-color: var(--fill-color);\n",
              "      border-top-color: var(--fill-color);\n",
              "    }\n",
              "    30% {\n",
              "      border-color: transparent;\n",
              "      border-left-color: var(--fill-color);\n",
              "      border-top-color: var(--fill-color);\n",
              "      border-right-color: var(--fill-color);\n",
              "    }\n",
              "    40% {\n",
              "      border-color: transparent;\n",
              "      border-right-color: var(--fill-color);\n",
              "      border-top-color: var(--fill-color);\n",
              "    }\n",
              "    60% {\n",
              "      border-color: transparent;\n",
              "      border-right-color: var(--fill-color);\n",
              "    }\n",
              "    80% {\n",
              "      border-color: transparent;\n",
              "      border-right-color: var(--fill-color);\n",
              "      border-bottom-color: var(--fill-color);\n",
              "    }\n",
              "    90% {\n",
              "      border-color: transparent;\n",
              "      border-bottom-color: var(--fill-color);\n",
              "    }\n",
              "  }\n",
              "</style>\n",
              "\n",
              "  <script>\n",
              "    async function quickchart(key) {\n",
              "      const quickchartButtonEl =\n",
              "        document.querySelector('#' + key + ' button');\n",
              "      quickchartButtonEl.disabled = true;  // To prevent multiple clicks.\n",
              "      quickchartButtonEl.classList.add('colab-df-spinner');\n",
              "      try {\n",
              "        const charts = await google.colab.kernel.invokeFunction(\n",
              "            'suggestCharts', [key], {});\n",
              "      } catch (error) {\n",
              "        console.error('Error during call to suggestCharts:', error);\n",
              "      }\n",
              "      quickchartButtonEl.classList.remove('colab-df-spinner');\n",
              "      quickchartButtonEl.classList.add('colab-df-quickchart-complete');\n",
              "    }\n",
              "    (() => {\n",
              "      let quickchartButtonEl =\n",
              "        document.querySelector('#df-27dac134-7e8b-434a-b9f5-c60dfc960c8c button');\n",
              "      quickchartButtonEl.style.display =\n",
              "        google.colab.kernel.accessAllowed ? 'block' : 'none';\n",
              "    })();\n",
              "  </script>\n",
              "</div>\n",
              "    </div>\n",
              "  </div>\n"
            ],
            "application/vnd.google.colaboratory.intrinsic+json": {
              "type": "dataframe",
              "variable_name": "df",
              "summary": "{\n  \"name\": \"df\",\n  \"rows\": 320,\n  \"fields\": [\n    {\n      \"column\": \"Actual\",\n      \"properties\": {\n        \"dtype\": \"number\",\n        \"std\": 0,\n        \"min\": 3,\n        \"max\": 8,\n        \"num_unique_values\": 6,\n        \"samples\": [\n          6,\n          5,\n          3\n        ],\n        \"semantic_type\": \"\",\n        \"description\": \"\"\n      }\n    },\n    {\n      \"column\": \"Predicted\",\n      \"properties\": {\n        \"dtype\": \"number\",\n        \"std\": 0,\n        \"min\": 4,\n        \"max\": 8,\n        \"num_unique_values\": 5,\n        \"samples\": [\n          6,\n          4,\n          7\n        ],\n        \"semantic_type\": \"\",\n        \"description\": \"\"\n      }\n    }\n  ]\n}"
            }
          },
          "metadata": {}
        },
        {
          "output_type": "stream",
          "name": "stdout",
          "text": [
            "Mean Squared Error:  0.8\n",
            "Mean Absolute Error:  0.56875\n"
          ]
        },
        {
          "output_type": "display_data",
          "data": {
            "text/plain": [
              "<Figure size 640x480 with 1 Axes>"
            ],
            "image/png": "[encoded data removed]"
          },
          "metadata": {}
        }
      ]
    }
  ]
}